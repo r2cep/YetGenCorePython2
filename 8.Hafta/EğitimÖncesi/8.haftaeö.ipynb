{
 "cells": [
  {
   "attachments": {},
   "cell_type": "markdown",
   "metadata": {},
   "source": [
    "## **Dosya Okuma Yöntemleri**\n",
    "- dosya açmak için open() komutu kullanılır.\n",
    "- open(dosyaİsmi , dosyaModu)\n",
    "- dosyaModu : Dosyayı hangi modda açacağını belirtir.\n",
    "- r: Okuma modunda açmayı sağlar. Belirtilen konumda dosya olması gerekir.\n",
    "- close(): Dosyayı kapatır"
   ]
  },
  {
   "cell_type": "markdown",
   "metadata": {},
   "source": []
  },
  {
   "cell_type": "code",
   "execution_count": 1,
   "metadata": {},
   "outputs": [
    {
     "name": "stdout",
     "output_type": "stream",
     "text": [
      "<_io.TextIOWrapper name='bilgiler.txt' mode='r' encoding='utf-8'>\n"
     ]
    }
   ],
   "source": [
    "f = open(\"bilgiler.txt\") \n",
    "print(f)"
   ]
  },
  {
   "cell_type": "code",
   "execution_count": 2,
   "metadata": {},
   "outputs": [
    {
     "name": "stdout",
     "output_type": "stream",
     "text": [
      "Merhaba\n",
      "\n",
      "Bugün günlerden Pazar\n",
      "\n",
      "Bugünün tarihi 09.04.2023\n"
     ]
    },
    {
     "data": {
      "text/plain": [
       "<function TextIOWrapper.close()>"
      ]
     },
     "execution_count": 2,
     "metadata": {},
     "output_type": "execute_result"
    }
   ],
   "source": [
    "file = open(\"bilgiler.txt\", \"r\" , encoding= \"utf-8 \")\n",
    "for i in file:\n",
    "    print(i)\n",
    "file.close"
   ]
  },
  {
   "attachments": {},
   "cell_type": "markdown",
   "metadata": {},
   "source": [
    " ### **read fonksiyonu**"
   ]
  },
  {
   "cell_type": "code",
   "execution_count": 18,
   "metadata": {},
   "outputs": [
    {
     "name": "stdout",
     "output_type": "stream",
     "text": [
      "1.Okuma İçeriği,\n",
      " Merhaba\n",
      "Bugün günlerden Pazar\n",
      "Bugünün tarihi 09.04.2023\n"
     ]
    }
   ],
   "source": [
    "file = open(\"bilgiler.txt\", \"r\" , encoding= \"utf-8 \")\n",
    "icerik = file.read()\n",
    "print(\"1.Okuma İçeriği,\"\"\"\"\n",
    "\"\"\",icerik,sep= \" \")\n",
    "file.close()\n"
   ]
  },
  {
   "attachments": {},
   "cell_type": "markdown",
   "metadata": {},
   "source": [
    "### **readline fonksiyonu**"
   ]
  },
  {
   "cell_type": "code",
   "execution_count": 21,
   "metadata": {},
   "outputs": [
    {
     "name": "stdout",
     "output_type": "stream",
     "text": [
      "Merhaba\n",
      "\n"
     ]
    }
   ],
   "source": [
    "file = open(\"bilgiler.txt\", \"r\" , encoding= \"utf-8 \")\n",
    "print(file.readline())"
   ]
  },
  {
   "cell_type": "code",
   "execution_count": 24,
   "metadata": {},
   "outputs": [
    {
     "name": "stdout",
     "output_type": "stream",
     "text": [
      "\n"
     ]
    }
   ],
   "source": [
    "print(file.readline())\n"
   ]
  },
  {
   "cell_type": "code",
   "execution_count": 25,
   "metadata": {},
   "outputs": [
    {
     "name": "stdout",
     "output_type": "stream",
     "text": [
      "\n"
     ]
    }
   ],
   "source": [
    "print(file.readline())"
   ]
  },
  {
   "cell_type": "code",
   "execution_count": 27,
   "metadata": {},
   "outputs": [],
   "source": [
    "file.close()"
   ]
  },
  {
   "cell_type": "code",
   "execution_count": 29,
   "metadata": {},
   "outputs": [
    {
     "name": "stdout",
     "output_type": "stream",
     "text": [
      "['Merhaba\\n', 'Bugün günlerden Pazar\\n', 'Bugünün tarihi 09.04.2023']\n"
     ]
    }
   ],
   "source": [
    "file = open(\"bilgiler.txt\", \"r\" , encoding= \"utf-8 \")\n",
    "print(file.readlines())"
   ]
  },
  {
   "attachments": {},
   "cell_type": "markdown",
   "metadata": {},
   "source": [
    "### **Dosya Yazma**"
   ]
  },
  {
   "cell_type": "code",
   "execution_count": 48,
   "metadata": {},
   "outputs": [],
   "source": [
    "file = open(\"bilgiler.txt\", \"w\" , encoding= \"utf-8 \")\n",
    "file.write(\"YetGen\") ##Dosyadaki önceki yazılanların hepsini silip bu yazdıklarımızı ekliyor.\n",
    "file.close()"
   ]
  },
  {
   "cell_type": "code",
   "execution_count": 49,
   "metadata": {},
   "outputs": [],
   "source": [
    "file = open(\"bilgiler.txt\", \"a\" , encoding= \"utf-8 \") ##Dosyadaki önceki yazılanların üstüne bu yazdıklarımızı ekliyor.\n",
    "file.write(\",Core\")\n",
    "file.close()"
   ]
  },
  {
   "cell_type": "code",
   "execution_count": 50,
   "metadata": {},
   "outputs": [],
   "source": [
    "file = open(\"bilgiler.txt\", \"r+\" , encoding= \"utf-8 \") ##Dosyaya hem yazı ekleme hem de okuma.\n",
    "file.write(\",Python\")\n",
    "file.read()\n",
    "file.close()"
   ]
  },
  {
   "cell_type": "code",
   "execution_count": 52,
   "metadata": {},
   "outputs": [
    {
     "name": "stdout",
     "output_type": "stream",
     "text": [
      "RECEP\n",
      "\n",
      "ŞANLI\n",
      "\n",
      "YETGEN\n",
      "\n",
      "CORE\n",
      "\n",
      "PYTHON\n",
      "\n",
      "09.04.2023\n"
     ]
    }
   ],
   "source": [
    "## Otomatik dosya kapatma\n",
    "with open(\"bilgiler.txt\", \"r\" , encoding= \"utf-8 \") as file:\n",
    "    for i in file:\n",
    "        print(i)"
   ]
  },
  {
   "cell_type": "code",
   "execution_count": 54,
   "metadata": {},
   "outputs": [
    {
     "name": "stdout",
     "output_type": "stream",
     "text": [
      "\n",
      "ŞANLI\n",
      "YET\n",
      "RECEP\n",
      "\n"
     ]
    }
   ],
   "source": [
    "with open(\"bilgiler.txt\", \"r\" , encoding= \"utf-8 \") as file:\n",
    "    file.seek(5)\n",
    "    icerik = file.read(10)\n",
    "    print(icerik)\n",
    "    file.seek(0)\n",
    "    icerik2 = file.read(6)\n",
    "    print(icerik2)"
   ]
  },
  {
   "cell_type": "code",
   "execution_count": 55,
   "metadata": {},
   "outputs": [],
   "source": [
    "with open(\"bilgiler.txt\", \"r+\" , encoding= \"utf-8 \") as file:\n",
    "    file.seek(5)\n",
    "    file.write(\"Deneme\")"
   ]
  },
  {
   "cell_type": "code",
   "execution_count": 56,
   "metadata": {},
   "outputs": [],
   "source": [
    "# -------------------"
   ]
  },
  {
   "cell_type": "code",
   "execution_count": 60,
   "metadata": {},
   "outputs": [],
   "source": [
    "class araba():\n",
    "    model = \"Renult\"\n",
    "    renk = \"Kırmızı\"\n",
    "    çıkışYılı = \"2022\"\n"
   ]
  },
  {
   "cell_type": "code",
   "execution_count": 61,
   "metadata": {},
   "outputs": [
    {
     "name": "stdout",
     "output_type": "stream",
     "text": [
      "Renult\n",
      "Kırmızı\n"
     ]
    }
   ],
   "source": [
    "araba1 = araba()\n",
    "print(araba1.model)\n",
    "print(araba1.renk)"
   ]
  },
  {
   "cell_type": "code",
   "execution_count": 62,
   "metadata": {},
   "outputs": [],
   "source": [
    "class Araba():\n",
    "    def __init__(self,model,renk,çıkışYılı):\n",
    "        self.model = model\n",
    "        self.renk = renk\n",
    "        self.çıkışYılı = çıkışYılı"
   ]
  },
  {
   "cell_type": "code",
   "execution_count": 63,
   "metadata": {},
   "outputs": [
    {
     "name": "stdout",
     "output_type": "stream",
     "text": [
      "Porshe\n"
     ]
    }
   ],
   "source": [
    "araba2 = Araba(\"Porshe\",\"Siyah\",\"2023\")\n",
    "print(araba2.model)"
   ]
  },
  {
   "cell_type": "code",
   "execution_count": null,
   "metadata": {},
   "outputs": [],
   "source": []
  },
  {
   "cell_type": "code",
   "execution_count": null,
   "metadata": {},
   "outputs": [],
   "source": []
  }
 ],
 "metadata": {
  "kernelspec": {
   "display_name": "Python 3",
   "language": "python",
   "name": "python3"
  },
  "language_info": {
   "codemirror_mode": {
    "name": "ipython",
    "version": 3
   },
   "file_extension": ".py",
   "mimetype": "text/x-python",
   "name": "python",
   "nbconvert_exporter": "python",
   "pygments_lexer": "ipython3",
   "version": "3.11.1"
  },
  "orig_nbformat": 4
 },
 "nbformat": 4,
 "nbformat_minor": 2
}
