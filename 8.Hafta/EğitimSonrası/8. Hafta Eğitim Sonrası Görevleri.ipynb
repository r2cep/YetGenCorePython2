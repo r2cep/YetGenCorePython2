{
 "cells": [
  {
   "attachments": {},
   "cell_type": "markdown",
   "metadata": {},
   "source": [
    "# Problem 1\n",
    "\n",
    "Şimdi beraber kullanıcılardan aldığımız verileri işleyerek, onlara hem çıktı verecek, hem de aldığımız ve hesapladığımız verileri ileride kullanabilmek adına kaydedeceğiz.\n",
    "\n",
    "\n",
    " **Bu bir veri giriş platformu olacak**\n",
    "\n",
    "\n",
    " * kullanıcıya kaç giriş yapacağını soracağız\n",
    "* kullanıcıdan isim-soyisim, yaş, boy, kilo bilgilerini alarak VKİ hesaplayacağız\n",
    "* ardından bunları sınıflara göre kaydedeceğiz bir dosyaya kaydedeceğiz\n",
    "\n",
    "\n",
    "Sınıflar ise şu şekilde: \n",
    "* 18, 5 kg/m.'nin altında olanlar: Zayıf\n",
    "* 18.5 – 24, 9 kg/m. arasında olanlar: Normal kilolu\n",
    "* 25 – 29, 9 kg/m. arasında olanlar: Fazla kilolu\n",
    "* 30 – 39, 9 kg/m. arasında olanlar: Obez\n",
    "* 40 kg/m.'nin üzerinde olanlar: İleri derecede obez (morbid obez), olarak görülür."
   ]
  },
  {
   "cell_type": "code",
   "execution_count": 4,
   "metadata": {},
   "outputs": [
    {
     "name": "stdout",
     "output_type": "stream",
     "text": [
      "Nisa VKI ' nız 21 , Normal kilolusunuz.\n"
     ]
    }
   ],
   "source": [
    "giris = int(input(\"Kaç giriş yapacaksınız? : \"))\n",
    "for i in range(giris):\n",
    "    isimSoyisim = input(\"İsim ve Soyisim giriniz. : \")\n",
    "    boy = int(input(\"Boyunuzu giriniz. (1.95): \"))\n",
    "    kilo = int(input(\"Kilonuzu giriniz. : \"))\n",
    "    indeks = kilo / ((boy/100)**2)\n",
    "    indeks = int(indeks)\n",
    "    if indeks < 18.5:\n",
    "        print(\"VKI ' nız\",indeks,\".Zayıfsınız.\")\n",
    "    elif  18.5 < indeks < 24.9:\n",
    "        print(isimSoyisim ,\"VKI ' nız\",indeks,\", Normal kilolusunuz.\")\n",
    "    elif  25 < indeks < 29.9:\n",
    "        print(isimSoyisim ,\"VKI ' nız\",indeks,\", Fazla kilolusunuz.\")\n",
    "    elif  30 < indeks < 39.9:\n",
    "        print(isimSoyisim ,\"VKI ' nız\",indeks,\", Obezsiniz.\")\n",
    "    elif  indeks > 40:\n",
    "        print(isimSoyisim ,\"VKI ' nız\",indeks,\", İleri derece obezsiniz.\")\n",
    "    with open(\"kitle.txt\", \"a\" , encoding= \"utf-8 \") as file:\n",
    "        \n",
    "     boy = str(boy)\n",
    "     kilo = str(kilo)\n",
    "     indeks = str(indeks)\n",
    "     isimSoyisim = str(isimSoyisim)\n",
    "     file.write(\"Merhaba \" + isimSoyisim + \",\" + \"\\n\" + \"Boyunuz:\" + boy + \",\" + \"Kilonuz:\" + kilo + \",\" + \"VKI'nız:\" + indeks + \"\\n\" + \"\\n\")\n",
    "\n",
    "\n",
    "    \n"
   ]
  },
  {
   "attachments": {},
   "cell_type": "markdown",
   "metadata": {},
   "source": [
    "# Problem 2\n",
    "**YetBar - Smoothie Bank**\n",
    "---\n",
    "YetBar spor salonunun girişinde bulunan, insansız bir sağlıklı içecek otomatıdır. Kullanıcı çeşitli girdiler smoothie içeceğine koyacağı ürünleri belirleyebilir, fiyat hesaplaması yaptırabilir ya da sadece menüyü görüntüleyebilir.\n",
    "\n",
    "**Projenin Amacı:**\n",
    "\n",
    "*   Birbirini etkileyen ve bir kod içerisinde birden fazla defa başvurulacak fonksiyonların oluşturulup, \"fonksiyonel\" proglamlamak.\n",
    "*   Büyük programları yazarken, yazılımcı olarak yapabileceğimiz hatalardan kaçınmak için kontrol yöntemleri geliştirmek.\n",
    "*   Kullanıcı inputlarını ve yaptığımız hesapları, raporlamak/loglamak amacıyla kaydetmek.\n",
    "\n",
    "**Programdan Beklenen Çıktılar**\n",
    "* Program kullanıcıya temelde 2 farklı işlem yapma imkanı sağlar.\n",
    "> 1. Menüyü görüntüleme\n",
    "> 3. Satın alma\n",
    "* Satın alınan her içecek tarih, fiyat bilgisi ile kaydedilmeli ve her zaman ulaşılabilir olmalıdır.\n",
    "\n",
    "\n"
   ]
  },
  {
   "cell_type": "code",
   "execution_count": 37,
   "metadata": {},
   "outputs": [
    {
     "name": "stdout",
     "output_type": "stream",
     "text": [
      "Elmalı Smoothie satın aldınız.\n",
      "Elmalı Smoothie - 25 TL (1)\n",
      "Portakalıı Smoothie - 27 TL (2)\n",
      "Salatalıklı Smoothie - 15 TL (3)\n",
      "Çilekli Smoothie - 30 TL (4)\n",
      "Çikolatalı Smoothie - 35 TL (5)\n",
      "Maydonozlu Smoothie - 15 TL (6)\n"
     ]
    },
    {
     "ename": "ValueError",
     "evalue": "invalid literal for int() with base 10: ''",
     "output_type": "error",
     "traceback": [
      "\u001b[0;31m---------------------------------------------------------------------------\u001b[0m",
      "\u001b[0;31mValueError\u001b[0m                                Traceback (most recent call last)",
      "Cell \u001b[0;32mIn[37], line 7\u001b[0m\n\u001b[1;32m      4\u001b[0m file \u001b[39m=\u001b[39m \u001b[39mopen\u001b[39m(\u001b[39m\"\u001b[39m\u001b[39mmenu.txt\u001b[39m\u001b[39m\"\u001b[39m,\u001b[39m\"\u001b[39m\u001b[39mr\u001b[39m\u001b[39m\"\u001b[39m,encoding\u001b[39m=\u001b[39m \u001b[39m\"\u001b[39m\u001b[39mutf-8\u001b[39m\u001b[39m\"\u001b[39m)\n\u001b[1;32m      6\u001b[0m \u001b[39mwhile\u001b[39;00m \u001b[39mTrue\u001b[39;00m:\n\u001b[0;32m----> 7\u001b[0m     secim \u001b[39m=\u001b[39m \u001b[39mint\u001b[39;49m(\u001b[39minput\u001b[39;49m(\u001b[39m\"\u001b[39;49m\u001b[39mMenüyü görmek için 1\u001b[39;49m\u001b[39m\\n\u001b[39;49;00m\u001b[39m Satın almak için 2\u001b[39;49m\u001b[39m\\n\u001b[39;49;00m\u001b[39m Çıkış yapmak için 0 \u001b[39;49m\u001b[39m'\u001b[39;49m\u001b[39m ı tuşlayınız.\u001b[39;49m\u001b[39m\"\u001b[39;49m))\n\u001b[1;32m      8\u001b[0m     \u001b[39mif\u001b[39;00m secim \u001b[39m==\u001b[39m \u001b[39m1\u001b[39m:\n\u001b[1;32m      9\u001b[0m      dosya \u001b[39m=\u001b[39m file\u001b[39m.\u001b[39mread()\n",
      "\u001b[0;31mValueError\u001b[0m: invalid literal for int() with base 10: ''"
     ]
    }
   ],
   "source": [
    "import datetime\n",
    "x = datetime.datetime.now()\n",
    "x = str(x)\n",
    "file = open(\"menu.txt\",\"r\",encoding= \"utf-8\")\n",
    "\n",
    "while True:\n",
    "    secim = int(input(\"Menüyü görmek için 1\\n Satın almak için 2\\n Çıkış yapmak için 0 ' ı tuşlayınız.\"))\n",
    "    if secim == 1:\n",
    "     dosya = file.read()\n",
    "     print(dosya)\n",
    "    elif secim == 2:\n",
    "       satın = int(input(\"Satın almak istediğiniz içeceği tuşlayınız : \"))\n",
    "       if satın == 1:\n",
    "         print(\"Elmalı Smoothie satın aldınız.\")\n",
    "         dosya = open(\"satınal.txt\", \"a\",encoding= \"utf-8\")\n",
    "         dosya.write(x)\n",
    "         dosya.write(\",25 TL\\n\")\n",
    "         \n",
    "       elif satın == 2:\n",
    "         print(\"Portakallı Smoothie satın aldınız.\")\n",
    "         dosya = open(\"satınal.txt\", \"a\",encoding= \"utf-8\")\n",
    "         dosya.write(x)\n",
    "         dosya.write(\",27 TL\\n\")\n",
    "       elif satın == 3:\n",
    "         print(\"Salatalıklı Smoothie satın aldınız.\")\n",
    "         dosya = open(\"satınal.txt\", \"a\",encoding= \"utf-8\")\n",
    "         dosya.write(x)\n",
    "         dosya.write(\",15 TL\\n\")\n",
    "       elif satın == 4:\n",
    "         print(\"Çilekli Smoothie satın aldınız.\")\n",
    "         dosya = open(\"satınal.txt\", \"a\",encoding= \"utf-8\")\n",
    "         dosya.write(x)\n",
    "         dosya.write(\",30 TL\\n\")\n",
    "        elif satın == 5:\n",
    "         print(\"Çilekli Smoothie satın aldınız.\")\n",
    "         dosya = open(\"satınal.txt\", \"a\",encoding= \"utf-8\")\n",
    "         dosya.write(x)\n",
    "         dosya.write(\",30 TL\\n\")\n",
    "    \n",
    " "
   ]
  }
 ],
 "metadata": {
  "kernelspec": {
   "display_name": "Python 3",
   "language": "python",
   "name": "python3"
  },
  "language_info": {
   "codemirror_mode": {
    "name": "ipython",
    "version": 3
   },
   "file_extension": ".py",
   "mimetype": "text/x-python",
   "name": "python",
   "nbconvert_exporter": "python",
   "pygments_lexer": "ipython3",
   "version": "3.11.1"
  },
  "orig_nbformat": 4,
  "vscode": {
   "interpreter": {
    "hash": "5026d2d6e7aaaaba093def813beadff083d8733e4a511af01735cbabd156995d"
   }
  }
 },
 "nbformat": 4,
 "nbformat_minor": 2
}
