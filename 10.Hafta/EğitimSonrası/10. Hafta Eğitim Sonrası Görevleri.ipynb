{
 "cells": [
  {
   "attachments": {},
   "cell_type": "markdown",
   "metadata": {},
   "source": [
    "# Problem 1 "
   ]
  },
  {
   "cell_type": "code",
   "execution_count": 2,
   "metadata": {},
   "outputs": [
    {
     "name": "stdout",
     "output_type": "stream",
     "text": [
      "[23 46 86 78 36]\n"
     ]
    }
   ],
   "source": [
    "# 1 - numpy kütüphanesini import edin\n",
    "import numpy as np\n",
    "# 2 - 5 elemanlı bir numpy array oluşturun\n",
    "a = np.array([23,46,86,78,36])\n",
    "\n",
    "# 3 - Oluşturduğunuz arrayi küçükten büyüğe sıralayın.\n",
    "print(a)\n",
    "a.sort()\n"
   ]
  },
  {
   "attachments": {},
   "cell_type": "markdown",
   "metadata": {},
   "source": [
    "# Problem 2"
   ]
  },
  {
   "cell_type": "code",
   "execution_count": 22,
   "metadata": {},
   "outputs": [
    {
     "name": "stdout",
     "output_type": "stream",
     "text": [
      "[[23 37 40 48 46]\n",
      " [35 38 30 37 35]\n",
      " [13 22 12 32 45]]\n",
      "(0, 3)\n",
      "[[16 47 15 33 43]]\n",
      "[[31 32 33 14 26]]\n",
      "2\n",
      "4\n",
      "6\n",
      "8\n",
      "10\n",
      "12\n",
      "14\n",
      "16\n",
      "18\n",
      "20\n",
      "22\n",
      "24\n",
      "26\n",
      "28\n",
      "30\n",
      "32\n",
      "34\n",
      "36\n",
      "38\n",
      "40\n",
      "42\n",
      "44\n",
      "46\n",
      "48\n"
     ]
    }
   ],
   "source": [
    "# 1- (10,15,30,45,60) değerlerine sahip numpy dizisi oluşturunuz.\n",
    "import numpy as np\n",
    "m = np.array([10,15,30,60])\n",
    "\n",
    "# 2- (5-15) arasındaki sayılarla numpy dizisi oluşturunuz.\n",
    "n = np.arange(5,15,1)\n",
    "# 3- (50-100) arasında 5'er 5'er artarak numpy dizisi oluşturunuz.\n",
    "k = np.arange(50,100,5)\n",
    "\n",
    "# 4- 10 elemanlı sıfırlardan oluşan bir dizi oluşturunuz.\n",
    "a = np.zeros(10)\n",
    "\n",
    "# 5- 10 elemanlı birlerden oluşan bir dizi oluşturunuz.\n",
    "ç = np.ones(10)\n",
    "\n",
    "# 6- (0-100) arasında eşit aralıklı 5 sayı üretin.\n",
    "f = np.linspace(0,100,5)\n",
    "\n",
    "# 7- (10-30) arasında rastgele 5 tane tamsayı üretin.\n",
    "d = np.random.randint(10,30,5)\n",
    "# 8- [-1 ile 1] arasında 10 adet sayı üretin.\n",
    "x = np.linspace(-1,1,10)\n",
    "\n",
    "# 9- (3x5) boyutlarında (10-50) arasında rastgele bir matris oluşturunuz.\n",
    "m = np.random.randint(10,50, size=(3,5))\n",
    "print(m)\n",
    "# 10- Üretilen matrisin satır ve sütun sayıları toplamlarını hesaplayını ?\n",
    "a = np.sum(m,axis =1)\n",
    "b = np.sum(m,axis=0)\n",
    "\n",
    "# 11- Üretilen matrisin en büyük, en küçük ve ortalaması nedir ?\n",
    "enBüyük = np.max(m)\n",
    "enKücük = np.min(m)\n",
    "ortalama = (enBüyük + enKücük ) / 2\n",
    "# 12- Üretilen matrisin en büyük değerinin indeksi kaçtır ?\n",
    "indeks = np.unravel_index(np.argmax(m),m.shape)\n",
    "print(indeks)\n",
    "# 13- (10-20) arasındaki sayıları içeren dizinin ilk 3 elemanını seçiniz.\n",
    "n = np.linspace(10,20,num=11)\n",
    "v = n[:3]\n",
    "\n",
    "# 14- Üretilen dizinin elemanlarını tersten yazdırın.\n",
    "dizi = np.linspace(10,20,num=11)\n",
    "ters = dizi[::-1]\n",
    "\n",
    "# 15- Üretilen matrisin ilk satırını seçiniz.\n",
    "m = np.random.randint(10,50, size=(3,5))\n",
    "k = m[0:1]\n",
    "print(k)\n",
    "\n",
    "# 16- Üretilen matrisin 2.satır 3.sütundaki elemanı hangisidir ?\n",
    "\n",
    "m = np.random.randint(10,50, size=(3,5))\n",
    "k = m[1:2]\n",
    "print(k)\n",
    "# 17- Üretilen matrisin tüm satırlardaki ilk elemanı seçiniz.\n",
    "m = np.random.randint(10,50, size=(3,5))\n",
    "k = m[:,0]\n",
    "\n",
    "# 18- Üretilen matrisin her bir elemanının karesini alınız.\n",
    "\n",
    "m = np.random.randint(10,50, size=(3,5))\n",
    "k = np.square(m)\n",
    "\n",
    "# 19- Üretilen matris elemanlarının hangisi pozitif çift sayıdır ? Aralığı (-50,+50) arasında yapınız.\n",
    "m = np.arange(-50,50)\n",
    "for i in m:\n",
    "    if i > 0:\n",
    "        if i % 2 == 0:\n",
    "            print(i)\n",
    "       \n",
    "\n"
   ]
  }
 ],
 "metadata": {
  "kernelspec": {
   "display_name": "Python 3",
   "language": "python",
   "name": "python3"
  },
  "language_info": {
   "codemirror_mode": {
    "name": "ipython",
    "version": 3
   },
   "file_extension": ".py",
   "mimetype": "text/x-python",
   "name": "python",
   "nbconvert_exporter": "python",
   "pygments_lexer": "ipython3",
   "version": "3.11.1"
  },
  "orig_nbformat": 4,
  "vscode": {
   "interpreter": {
    "hash": "5026d2d6e7aaaaba093def813beadff083d8733e4a511af01735cbabd156995d"
   }
  }
 },
 "nbformat": 4,
 "nbformat_minor": 2
}
