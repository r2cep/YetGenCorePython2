{
 "cells": [
  {
   "attachments": {},
   "cell_type": "markdown",
   "metadata": {},
   "source": [
    "## Methotlar\n"
   ]
  },
  {
   "cell_type": "code",
   "execution_count": 15,
   "metadata": {},
   "outputs": [],
   "source": [
    "class Yazilimci():\n",
    "    def __init__(self,isim,soyisim,numara,maas,diller):\n",
    "        self.isim = isim\n",
    "        self.soyisim = soyisim\n",
    "        self.numara = numara\n",
    "        self.maas = maas\n",
    "        self.diller = diller\n",
    "\n",
    "    def bilgileriGöster(self):\n",
    "        print(f\"\"\"\n",
    "        Calısma Bilgisi :\n",
    "         İsim : {self.isim}\n",
    "         Soyisim : {self.soyisim}\n",
    "         Numara : {self.numara}\n",
    "         Maas : {self.maas}\n",
    "         Bildiği Diller : {self.diller}\n",
    "        \"\"\")\n",
    "    def dilEkle(self, dilEkle):\n",
    "        print(\"Dil eklendi\")\n",
    "        self.diller.append(dilEkle)\n",
    "    def maasYükselt(self, maasYükselt):\n",
    "        print(\"Zam yapılıyor\")\n",
    "        self.maas += 250\n"
   ]
  },
  {
   "cell_type": "code",
   "execution_count": 16,
   "metadata": {},
   "outputs": [],
   "source": [
    "yazılımcı = Yazilimci(\"Recep\", \"Şanlı\",12345,10000,[\"Python\"]) "
   ]
  },
  {
   "cell_type": "code",
   "execution_count": 17,
   "metadata": {},
   "outputs": [
    {
     "name": "stdout",
     "output_type": "stream",
     "text": [
      "\n",
      "        Calısma Bilgisi :\n",
      "         İsim : Recep\n",
      "         Soyisim : Şanlı\n",
      "         Numara : 12345\n",
      "         Maas : 10000\n",
      "         Bildiği Diller : ['Python']\n",
      "        \n"
     ]
    }
   ],
   "source": [
    "yazılımcı.bilgileriGöster()"
   ]
  },
  {
   "cell_type": "code",
   "execution_count": 18,
   "metadata": {},
   "outputs": [
    {
     "name": "stdout",
     "output_type": "stream",
     "text": [
      "Zam yapılıyor\n",
      "\n",
      "        Calısma Bilgisi :\n",
      "         İsim : Recep\n",
      "         Soyisim : Şanlı\n",
      "         Numara : 12345\n",
      "         Maas : 10250\n",
      "         Bildiği Diller : ['Python']\n",
      "        \n"
     ]
    }
   ],
   "source": [
    "yazılımcı.maasYükselt(250)\n",
    "yazılımcı.bilgileriGöster()"
   ]
  },
  {
   "cell_type": "code",
   "execution_count": 19,
   "metadata": {},
   "outputs": [
    {
     "name": "stdout",
     "output_type": "stream",
     "text": [
      "Dil eklendi\n",
      "\n",
      "        Calısma Bilgisi :\n",
      "         İsim : Recep\n",
      "         Soyisim : Şanlı\n",
      "         Numara : 12345\n",
      "         Maas : 10250\n",
      "         Bildiği Diller : ['Python', 'JS']\n",
      "        \n"
     ]
    }
   ],
   "source": [
    "yazılımcı.dilEkle(\"JS\")\n",
    "yazılımcı.bilgileriGöster()"
   ]
  },
  {
   "cell_type": "code",
   "execution_count": 1,
   "metadata": {},
   "outputs": [],
   "source": [
    "class Person:\n",
    "    def __init__(self,name,surname,age):\n",
    "        self.name = name\n",
    "        self.surname = surname\n",
    "        self.age = age\n",
    "        print(\"Personal üretildi.\")\n",
    "    def intro(self):\n",
    "        print(self.name,self.surname,self.age)\n",
    "\n",
    "class Student(Person):\n",
    "    def __init__(self,name,surname,age,number):\n",
    "        super().__init__(name,surname,age)\n",
    "        self.number = number\n",
    "        print(\"Student oluşturuldu.\")\n",
    "    def intro(self):\n",
    "        print(self.name,self.surname, self.age , self.number)\n",
    "    def study(self):\n",
    "        print(f\"{self.number} numaralı öğrenci ders çalışıyor.\")\n",
    "\n",
    "class Teacher(Person):\n",
    "    def __init__(self,name,surname,age,brunch):\n",
    "        super().__init__(name,surname,age)\n",
    "        self.brunch = brunch\n",
    "        print(\"Teacher oluşturuldu.\")\n",
    "    def teach(self):\n",
    "        print(f\"{self.name} isimli öğretmen {self.brunch} dersine girmektedir. \")"
   ]
  },
  {
   "cell_type": "code",
   "execution_count": 3,
   "metadata": {},
   "outputs": [
    {
     "name": "stdout",
     "output_type": "stream",
     "text": [
      "Personal üretildi.\n",
      "Recep Şanlı 19\n"
     ]
    }
   ],
   "source": [
    "p1 = Person(\"Recep\",\"Şanlı\",19)\n",
    "p1.intro()\n"
   ]
  },
  {
   "cell_type": "code",
   "execution_count": 4,
   "metadata": {},
   "outputs": [
    {
     "name": "stdout",
     "output_type": "stream",
     "text": [
      "Personal üretildi.\n",
      "Student oluşturuldu.\n",
      "Recep Şanlı 19 1001\n",
      "1001 numaralı öğrenci ders çalışıyor.\n"
     ]
    }
   ],
   "source": [
    "s1 = Student(\"Recep\",\"Şanlı\",19,1001)\n",
    "s1.intro()\n",
    "s1.study()"
   ]
  },
  {
   "cell_type": "code",
   "execution_count": null,
   "metadata": {},
   "outputs": [],
   "source": []
  },
  {
   "cell_type": "code",
   "execution_count": null,
   "metadata": {},
   "outputs": [],
   "source": []
  }
 ],
 "metadata": {
  "kernelspec": {
   "display_name": "Python 3",
   "language": "python",
   "name": "python3"
  },
  "language_info": {
   "codemirror_mode": {
    "name": "ipython",
    "version": 3
   },
   "file_extension": ".py",
   "mimetype": "text/x-python",
   "name": "python",
   "nbconvert_exporter": "python",
   "pygments_lexer": "ipython3",
   "version": "3.11.1"
  },
  "orig_nbformat": 4
 },
 "nbformat": 4,
 "nbformat_minor": 2
}
