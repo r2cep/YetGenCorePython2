{
 "cells": [
  {
   "cell_type": "code",
   "execution_count": 3,
   "id": "87c812c7",
   "metadata": {},
   "outputs": [
    {
     "name": "stdout",
     "output_type": "stream",
     "text": [
      "Hello World,ben Recep\n"
     ]
    }
   ],
   "source": [
    "print(\"Hello World\" , \"ben Recep\", sep=\",\")"
   ]
  },
  {
   "cell_type": "code",
   "execution_count": 4,
   "id": "05caf663",
   "metadata": {},
   "outputs": [
    {
     "name": "stdout",
     "output_type": "stream",
     "text": [
      "Bugün günlerden pazar."
     ]
    }
   ],
   "source": [
    "print(\"Bugün günlerden pazar\", end=\".\")"
   ]
  },
  {
   "cell_type": "code",
   "execution_count": null,
   "id": "9d9c4256-0325-4e28-9b7a-f82f039bd7da",
   "metadata": {},
   "outputs": [],
   "source": []
  },
  {
   "cell_type": "code",
   "execution_count": null,
   "id": "39d49790",
   "metadata": {},
   "outputs": [],
   "source": []
  }
 ],
 "metadata": {
  "kernelspec": {
   "display_name": "Python 3 (ipykernel)",
   "language": "python",
   "name": "python3"
  },
  "language_info": {
   "codemirror_mode": {
    "name": "ipython",
    "version": 3
   },
   "file_extension": ".py",
   "mimetype": "text/x-python",
   "name": "python",
   "nbconvert_exporter": "python",
   "pygments_lexer": "ipython3",
   "version": "3.9.13"
  }
 },
 "nbformat": 4,
 "nbformat_minor": 5
}
