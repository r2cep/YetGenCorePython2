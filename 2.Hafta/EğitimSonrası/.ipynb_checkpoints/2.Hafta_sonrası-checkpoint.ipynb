{
 "cells": [
  {
   "cell_type": "code",
   "execution_count": 2,
   "id": "98395969",
   "metadata": {},
   "outputs": [
    {
     "name": "stdout",
     "output_type": "stream",
     "text": [
      "Hello\n"
     ]
    }
   ],
   "source": [
    "print(\"Hello\")"
   ]
  },
  {
   "cell_type": "code",
   "execution_count": 7,
   "id": "9d707cf4",
   "metadata": {},
   "outputs": [
    {
     "name": "stdout",
     "output_type": "stream",
     "text": [
      "3.14\n"
     ]
    }
   ],
   "source": [
    "print(3.14)"
   ]
  },
  {
   "cell_type": "code",
   "execution_count": 12,
   "id": "55dfbe7d",
   "metadata": {},
   "outputs": [
    {
     "name": "stdout",
     "output_type": "stream",
     "text": [
      "YetGen Core\n",
      "YetGen Core\n",
      "YetGen Core\n"
     ]
    }
   ],
   "source": [
    "yetgen = \"YetGen Core\"\n",
    "print(yetgen)\n",
    "print(yetgen)\n",
    "print(yetgen)"
   ]
  },
  {
   "cell_type": "markdown",
   "id": "4dfe62ee",
   "metadata": {},
   "source": [
    "### isimlendirme sayı ile başlamaz"
   ]
  },
  {
   "cell_type": "markdown",
   "id": "7db40d7a",
   "metadata": {},
   "source": [
    "### type( ) : veri tipini verir.\n",
    "### // : tam bölmeyeye yarar."
   ]
  },
  {
   "cell_type": "code",
   "execution_count": 13,
   "id": "fb774fc7",
   "metadata": {},
   "outputs": [
    {
     "name": "stdout",
     "output_type": "stream",
     "text": [
      "4 + 3 = 7\n"
     ]
    }
   ],
   "source": [
    "sayi1 = 4\n",
    "sayi2 = 3\n",
    "print(\"{} + {} = {}\".format(sayi1,sayi2,(sayi1+sayi2)))"
   ]
  },
  {
   "cell_type": "code",
   "execution_count": 18,
   "id": "cdc6ee13",
   "metadata": {},
   "outputs": [
    {
     "name": "stdout",
     "output_type": "stream",
     "text": [
      "P\n"
     ]
    }
   ],
   "source": [
    "core = \"Python\"\n",
    "print(core[0])"
   ]
  },
  {
   "cell_type": "code",
   "execution_count": 13,
   "id": "2d0cc475",
   "metadata": {},
   "outputs": [
    {
     "name": "stdin",
     "output_type": "stream",
     "text": [
      "Enter your name.  Recep\n"
     ]
    },
    {
     "name": "stdout",
     "output_type": "stream",
     "text": [
      "Good night Recep\n"
     ]
    }
   ],
   "source": [
    "name = input(\"Enter your name. \")\n",
    "print(f\"Good night {name}\")"
   ]
  },
  {
   "cell_type": "code",
   "execution_count": 24,
   "id": "618f8458",
   "metadata": {},
   "outputs": [
    {
     "name": "stdin",
     "output_type": "stream",
     "text": [
      "Enter the radius. 2.1\n"
     ]
    },
    {
     "name": "stdout",
     "output_type": "stream",
     "text": [
      "13.8474\n"
     ]
    }
   ],
   "source": [
    "radius = float(input(\"Enter the radius.\"))\n",
    "pi = 3.14\n",
    "radius_area = pi*radius**2\n",
    "print(radius_area)"
   ]
  },
  {
   "cell_type": "code",
   "execution_count": 29,
   "id": "31fbbd03-9b42-42e7-bc53-154aa6ee4cbd",
   "metadata": {},
   "outputs": [
    {
     "name": "stdout",
     "output_type": "stream",
     "text": [
      "x = [5, 4, 3, 2, 1]\n",
      "y = [1, 2, 3, 4, 5]\n"
     ]
    }
   ],
   "source": [
    "x = [1,2,3,4,5]\n",
    "y = [5,4,3,2,1]\n",
    "\n",
    "x,y = y,x\n",
    "print(\"x =\", x)\n",
    "print(\"y =\", y)"
   ]
  },
  {
   "cell_type": "code",
   "execution_count": null,
   "id": "5fd5f7c2-2736-4544-ab5c-2143abbe17c7",
   "metadata": {},
   "outputs": [],
   "source": []
  },
  {
   "cell_type": "code",
   "execution_count": null,
   "id": "80fde465-d01b-4908-aa83-868781a2ea61",
   "metadata": {},
   "outputs": [],
   "source": []
  },
  {
   "cell_type": "code",
   "execution_count": null,
   "id": "4b514cab-cf7e-4086-9b4c-6cd01c3a68a9",
   "metadata": {},
   "outputs": [],
   "source": []
  },
  {
   "cell_type": "code",
   "execution_count": null,
   "id": "1e076018-7bd0-4d96-9ab2-a9526158e64b",
   "metadata": {},
   "outputs": [],
   "source": []
  },
  {
   "cell_type": "code",
   "execution_count": null,
   "id": "8dfab4dc-7ebf-48f5-928b-d4133dd8bcf9",
   "metadata": {},
   "outputs": [],
   "source": []
  },
  {
   "cell_type": "code",
   "execution_count": null,
   "id": "98c29de3-b6e0-4321-a43b-1014e51732fd",
   "metadata": {},
   "outputs": [],
   "source": []
  },
  {
   "cell_type": "code",
   "execution_count": null,
   "id": "5a971648-5544-47f5-81ed-d954dfa33eee",
   "metadata": {},
   "outputs": [],
   "source": []
  },
  {
   "cell_type": "code",
   "execution_count": null,
   "id": "ace676ae-f63a-4310-af86-f01a551f017c",
   "metadata": {},
   "outputs": [],
   "source": []
  }
 ],
 "metadata": {
  "kernelspec": {
   "display_name": "Python 3 (ipykernel)",
   "language": "python",
   "name": "python3"
  },
  "language_info": {
   "codemirror_mode": {
    "name": "ipython",
    "version": 3
   },
   "file_extension": ".py",
   "mimetype": "text/x-python",
   "name": "python",
   "nbconvert_exporter": "python",
   "pygments_lexer": "ipython3",
   "version": "3.9.13"
  }
 },
 "nbformat": 4,
 "nbformat_minor": 5
}
