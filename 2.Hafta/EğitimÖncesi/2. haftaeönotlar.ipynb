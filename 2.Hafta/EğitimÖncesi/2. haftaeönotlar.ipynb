{
 "cells": [
  {
   "cell_type": "markdown",
   "id": "638f0841-37d6-4847-b84f-cb048138b385",
   "metadata": {
    "tags": []
   },
   "source": [
    "# **2.HAFTA EĞİTİM ÖNCESİ**"
   ]
  },
  {
   "cell_type": "code",
   "execution_count": null,
   "id": "fbf978cd-cb05-4623-9051-6898d8e919a2",
   "metadata": {},
   "outputs": [],
   "source": [
    "print(\"Hello World\" , \"ben Recep\", sep=\",\")"
   ]
  },
  {
   "cell_type": "code",
   "execution_count": 4,
   "id": "05caf663",
   "metadata": {},
   "outputs": [
    {
     "name": "stdout",
     "output_type": "stream",
     "text": [
      "Bugün günlerden pazar."
     ]
    }
   ],
   "source": [
    "print(\"Bugün günlerden pazar\", end=\".\")"
   ]
  },
  {
   "cell_type": "code",
   "execution_count": 8,
   "id": "9d9c4256-0325-4e28-9b7a-f82f039bd7da",
   "metadata": {},
   "outputs": [
    {
     "name": "stdout",
     "output_type": "stream",
     "text": [
      "Recep Şanlı\n",
      "Recep Şanlı\n",
      "Recep Şanlı\n"
     ]
    }
   ],
   "source": [
    "isimsoyisim = \"Recep Şanlı\"\n",
    "isimsoyisimm = \"Recep Şanlı\"\n",
    "isimsoyisimmm = \"Recep Şanlı\"\n",
    "\n",
    "print(isimsoyisim)\n",
    "print(isimsoyisimm)\n",
    "print(isimsoyisimmm)"
   ]
  },
  {
   "cell_type": "code",
   "execution_count": 9,
   "id": "d688246c-f002-483e-9d16-eba56ad617da",
   "metadata": {},
   "outputs": [
    {
     "name": "stdout",
     "output_type": "stream",
     "text": [
      "<class 'str'>\n"
     ]
    }
   ],
   "source": [
    "print(type(\"Recep\"))"
   ]
  },
  {
   "cell_type": "code",
   "execution_count": 10,
   "id": "a63b3c44-5504-4464-b41c-a37350038e9b",
   "metadata": {},
   "outputs": [
    {
     "data": {
      "text/plain": [
       "int"
      ]
     },
     "execution_count": 10,
     "metadata": {},
     "output_type": "execute_result"
    }
   ],
   "source": [
    "type(1)"
   ]
  },
  {
   "cell_type": "code",
   "execution_count": 3,
   "id": "a008f06c-bc35-45b7-a137-736f9942a53c",
   "metadata": {},
   "outputs": [
    {
     "name": "stdout",
     "output_type": "stream",
     "text": [
      "3.14\n"
     ]
    }
   ],
   "source": [
    "pi = 3.14\n",
    "print(pi)"
   ]
  },
  {
   "cell_type": "code",
   "execution_count": 4,
   "id": "9c0d8669",
   "metadata": {},
   "outputs": [
    {
     "name": "stdout",
     "output_type": "stream",
     "text": [
      "<class 'float'>\n"
     ]
    }
   ],
   "source": [
    "print(type(pi))"
   ]
  },
  {
   "cell_type": "code",
   "execution_count": 8,
   "id": "540b367e",
   "metadata": {},
   "outputs": [
    {
     "data": {
      "text/plain": [
       "32"
      ]
     },
     "execution_count": 8,
     "metadata": {},
     "output_type": "execute_result"
    }
   ],
   "source": [
    "2**5"
   ]
  },
  {
   "cell_type": "code",
   "execution_count": 9,
   "id": "dfb9309a",
   "metadata": {},
   "outputs": [
    {
     "name": "stdout",
     "output_type": "stream",
     "text": [
      "4\n"
     ]
    }
   ],
   "source": [
    "print(8//2)"
   ]
  },
  {
   "cell_type": "markdown",
   "id": "a02f853a",
   "metadata": {},
   "source": [
    "<img str=\"file:///Users/r2cep/Desktop/Ekran%20Resmi%202023-02-05%2018.25.10.png\">"
   ]
  },
  {
   "cell_type": "markdown",
   "id": "a47826bf",
   "metadata": {},
   "source": [
    "<img src=\"https://i.hizliresim.com/eonjz6d.png\">"
   ]
  },
  {
   "cell_type": "code",
   "execution_count": 3,
   "id": "e5467377",
   "metadata": {},
   "outputs": [
    {
     "name": "stdout",
     "output_type": "stream",
     "text": [
      "Recep\n"
     ]
    }
   ],
   "source": [
    "print(\"Recep\")"
   ]
  },
  {
   "cell_type": "code",
   "execution_count": 4,
   "id": "fc4c06a4-23a0-4336-b86b-898f86b5e1c4",
   "metadata": {},
   "outputs": [
    {
     "name": "stdout",
     "output_type": "stream",
     "text": [
      "Python Öğreniyorum\n"
     ]
    }
   ],
   "source": [
    "degisken = 'Python Öğreniyorum'\n",
    "print(degisken)"
   ]
  },
  {
   "cell_type": "code",
   "execution_count": 5,
   "id": "bd3ed754-4fcf-493f-a413-e0a5df2c7c12",
   "metadata": {},
   "outputs": [
    {
     "name": "stdout",
     "output_type": "stream",
     "text": [
      "P\n"
     ]
    }
   ],
   "source": [
    "print(degisken[0])"
   ]
  },
  {
   "cell_type": "code",
   "execution_count": 10,
   "id": "fff015c8-68a4-44da-a92e-2a48783d0351",
   "metadata": {},
   "outputs": [
    {
     "name": "stdout",
     "output_type": "stream",
     "text": [
      "Recep Şanlı 18\n"
     ]
    }
   ],
   "source": [
    "print(f\"{isim} {soyisim} {yas}\")"
   ]
  },
  {
   "cell_type": "code",
   "execution_count": 7,
   "id": "2d7a0aac-177f-444a-b23c-52c81d9b7e0f",
   "metadata": {},
   "outputs": [
    {
     "name": "stdout",
     "output_type": "stream",
     "text": [
      "u\n"
     ]
    }
   ],
   "source": [
    "print(degisken[0-2])"
   ]
  },
  {
   "cell_type": "code",
   "execution_count": 29,
   "id": "dc3b953e-81d7-4881-9aaa-c1d1c218dbe3",
   "metadata": {
    "tags": []
   },
   "outputs": [
    {
     "name": "stdout",
     "output_type": "stream",
     "text": [
      "İsim Giriniz :  Recep\n",
      "Merhaba Recep\n",
      "Merhaba  Recep\n",
      "Merhaba Recep\n"
     ]
    }
   ],
   "source": [
    "isim = input(\"İsim Giriniz : \")\n",
    "print(f\"Merhaba {isim}\")\n",
    "print(\"Merhaba \" , isim)\n",
    "print(\"Merhaba \" + isim)"
   ]
  },
  {
   "cell_type": "code",
   "execution_count": 8,
   "id": "d54b6b7d-0b25-46cb-bcf9-fa53ddcbbc62",
   "metadata": {},
   "outputs": [],
   "source": [
    "isim = \"Recep\"\n",
    "soyisim = \"Şanlı\"\n",
    "yas = \"18\""
   ]
  },
  {
   "cell_type": "code",
   "execution_count": 1,
   "id": "7bc12cd5-1938-4f8c-9ab7-ef9fb5519ca8",
   "metadata": {},
   "outputs": [
    {
     "name": "stdout",
     "output_type": "stream",
     "text": [
      "Birinci sayıyı giriniz : 1\n",
      "İkinci sayıyı giriniz : 3\n",
      "1\n"
     ]
    }
   ],
   "source": [
    "sayi1 = int(input(\"Birinci sayıyı giriniz : \"))\n",
    "sayi2 = int(input(\"İkinci sayıyı giriniz : \"))\n",
    "print(sayi1 ** sayi2)"
   ]
  },
  {
   "cell_type": "code",
   "execution_count": null,
   "id": "a6211d0e",
   "metadata": {},
   "outputs": [],
   "source": [
    "sayi = input(\"ad ve soyad giriniz : \")\n",
    "print(sayi)"
   ]
  },
  {
   "cell_type": "code",
   "execution_count": null,
   "id": "28741e4b",
   "metadata": {},
   "outputs": [],
   "source": []
  },
  {
   "cell_type": "code",
   "execution_count": null,
   "id": "ca87918c",
   "metadata": {},
   "outputs": [],
   "source": []
  },
  {
   "cell_type": "code",
   "execution_count": null,
   "id": "68da824a",
   "metadata": {},
   "outputs": [],
   "source": []
  },
  {
   "cell_type": "code",
   "execution_count": null,
   "id": "9a1b1830",
   "metadata": {},
   "outputs": [],
   "source": []
  },
  {
   "cell_type": "code",
   "execution_count": null,
   "id": "24202def",
   "metadata": {},
   "outputs": [],
   "source": []
  },
  {
   "cell_type": "code",
   "execution_count": null,
   "id": "1f674632",
   "metadata": {},
   "outputs": [],
   "source": []
  },
  {
   "cell_type": "code",
   "execution_count": null,
   "id": "927f1097",
   "metadata": {},
   "outputs": [],
   "source": []
  },
  {
   "cell_type": "code",
   "execution_count": null,
   "id": "070acd68",
   "metadata": {},
   "outputs": [],
   "source": []
  },
  {
   "cell_type": "code",
   "execution_count": null,
   "id": "34f3d62e",
   "metadata": {},
   "outputs": [],
   "source": []
  },
  {
   "cell_type": "code",
   "execution_count": null,
   "id": "a4a2e1e0",
   "metadata": {},
   "outputs": [],
   "source": []
  },
  {
   "cell_type": "code",
   "execution_count": null,
   "id": "a3555392",
   "metadata": {},
   "outputs": [],
   "source": []
  },
  {
   "cell_type": "code",
   "execution_count": null,
   "id": "a3adbadb",
   "metadata": {},
   "outputs": [],
   "source": []
  },
  {
   "cell_type": "code",
   "execution_count": null,
   "id": "190e399b",
   "metadata": {},
   "outputs": [],
   "source": []
  },
  {
   "cell_type": "code",
   "execution_count": null,
   "id": "c1a19364",
   "metadata": {},
   "outputs": [],
   "source": []
  },
  {
   "cell_type": "code",
   "execution_count": null,
   "id": "9783ecac",
   "metadata": {},
   "outputs": [],
   "source": []
  }
 ],
 "metadata": {
  "kernelspec": {
   "display_name": "Python 3 (ipykernel)",
   "language": "python",
   "name": "python3"
  },
  "language_info": {
   "codemirror_mode": {
    "name": "ipython",
    "version": 3
   },
   "file_extension": ".py",
   "mimetype": "text/x-python",
   "name": "python",
   "nbconvert_exporter": "python",
   "pygments_lexer": "ipython3",
   "version": "3.11.1"
  },
  "vscode": {
   "interpreter": {
    "hash": "aee8b7b246df8f9039afb4144a1f6fd8d2ca17a180786b69acc140d282b71a49"
   }
  }
 },
 "nbformat": 4,
 "nbformat_minor": 5
}
