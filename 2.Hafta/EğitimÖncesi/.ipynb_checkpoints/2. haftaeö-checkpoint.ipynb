{
 "cells": [
  {
   "cell_type": "code",
   "execution_count": 3,
   "id": "87c812c7",
   "metadata": {},
   "outputs": [
    {
     "name": "stdout",
     "output_type": "stream",
     "text": [
      "Hello World,ben Recep\n"
     ]
    }
   ],
   "source": [
    "print(\"Hello World\" , \"ben Recep\", sep=\",\")"
   ]
  },
  {
   "cell_type": "code",
   "execution_count": 4,
   "id": "05caf663",
   "metadata": {},
   "outputs": [
    {
     "name": "stdout",
     "output_type": "stream",
     "text": [
      "Bugün günlerden pazar."
     ]
    }
   ],
   "source": [
    "print(\"Bugün günlerden pazar\", end=\".\")"
   ]
  },
  {
   "cell_type": "code",
   "execution_count": 8,
   "id": "9d9c4256-0325-4e28-9b7a-f82f039bd7da",
   "metadata": {},
   "outputs": [
    {
     "name": "stdout",
     "output_type": "stream",
     "text": [
      "Recep Şanlı\n",
      "Recep Şanlı\n",
      "Recep Şanlı\n"
     ]
    }
   ],
   "source": [
    "isimsoyisim = \"Recep Şanlı\"\n",
    "isimsoyisimm = \"Recep Şanlı\"\n",
    "isimsoyisimmm = \"Recep Şanlı\"\n",
    "\n",
    "print(isimsoyisim)\n",
    "print(isimsoyisimm)\n",
    "print(isimsoyisimmm)"
   ]
  },
  {
   "cell_type": "code",
   "execution_count": 9,
   "id": "d688246c-f002-483e-9d16-eba56ad617da",
   "metadata": {},
   "outputs": [
    {
     "name": "stdout",
     "output_type": "stream",
     "text": [
      "<class 'str'>\n"
     ]
    }
   ],
   "source": [
    "print(type(\"Recep\"))"
   ]
  },
  {
   "cell_type": "code",
   "execution_count": 10,
   "id": "a63b3c44-5504-4464-b41c-a37350038e9b",
   "metadata": {},
   "outputs": [
    {
     "data": {
      "text/plain": [
       "int"
      ]
     },
     "execution_count": 10,
     "metadata": {},
     "output_type": "execute_result"
    }
   ],
   "source": [
    "type(1)"
   ]
  },
  {
   "cell_type": "code",
   "execution_count": 3,
   "id": "a008f06c-bc35-45b7-a137-736f9942a53c",
   "metadata": {},
   "outputs": [
    {
     "name": "stdout",
     "output_type": "stream",
     "text": [
      "3.14\n"
     ]
    }
   ],
   "source": [
    "pi = 3.14\n",
    "print(pi)"
   ]
  },
  {
   "cell_type": "code",
   "execution_count": 4,
   "id": "9c0d8669",
   "metadata": {},
   "outputs": [
    {
     "name": "stdout",
     "output_type": "stream",
     "text": [
      "<class 'float'>\n"
     ]
    }
   ],
   "source": [
    "print(type(pi))"
   ]
  },
  {
   "cell_type": "code",
   "execution_count": 8,
   "id": "540b367e",
   "metadata": {},
   "outputs": [
    {
     "data": {
      "text/plain": [
       "32"
      ]
     },
     "execution_count": 8,
     "metadata": {},
     "output_type": "execute_result"
    }
   ],
   "source": [
    "2**5"
   ]
  },
  {
   "cell_type": "code",
   "execution_count": 9,
   "id": "dfb9309a",
   "metadata": {},
   "outputs": [
    {
     "name": "stdout",
     "output_type": "stream",
     "text": [
      "4\n"
     ]
    }
   ],
   "source": [
    "print(8//2)"
   ]
  },
  {
   "cell_type": "markdown",
   "id": "a02f853a",
   "metadata": {},
   "source": [
    "<img str=\"file:///Users/r2cep/Desktop/Ekran%20Resmi%202023-02-05%2018.25.10.png\">"
   ]
  },
  {
   "cell_type": "markdown",
   "id": "a47826bf",
   "metadata": {},
   "source": [
    "<img src=\"https://i.hizliresim.com/eonjz6d.png\">"
   ]
  },
  {
   "cell_type": "code",
   "execution_count": 3,
   "id": "e5467377",
   "metadata": {},
   "outputs": [
    {
     "name": "stdout",
     "output_type": "stream",
     "text": [
      "Recep\n"
     ]
    }
   ],
   "source": [
    "print(\"Recep\")"
   ]
  },
  {
   "cell_type": "code",
   "execution_count": 4,
   "id": "fc4c06a4-23a0-4336-b86b-898f86b5e1c4",
   "metadata": {},
   "outputs": [
    {
     "name": "stdout",
     "output_type": "stream",
     "text": [
      "Python Öğreniyorum\n"
     ]
    }
   ],
   "source": [
    "degisken = 'Python Öğreniyorum'\n",
    "print(degisken)"
   ]
  },
  {
   "cell_type": "code",
   "execution_count": 5,
   "id": "bd3ed754-4fcf-493f-a413-e0a5df2c7c12",
   "metadata": {},
   "outputs": [
    {
     "name": "stdout",
     "output_type": "stream",
     "text": [
      "P\n"
     ]
    }
   ],
   "source": [
    "print(degisken[0])"
   ]
  },
  {
   "cell_type": "code",
   "execution_count": null,
   "id": "2d7a0aac-177f-444a-b23c-52c81d9b7e0f",
   "metadata": {},
   "outputs": [],
   "source": [
    "print("
   ]
  }
 ],
 "metadata": {
  "kernelspec": {
   "display_name": "Python 3 (ipykernel)",
   "language": "python",
   "name": "python3"
  },
  "language_info": {
   "codemirror_mode": {
    "name": "ipython",
    "version": 3
   },
   "file_extension": ".py",
   "mimetype": "text/x-python",
   "name": "python",
   "nbconvert_exporter": "python",
   "pygments_lexer": "ipython3",
   "version": "3.9.13"
  }
 },
 "nbformat": 4,
 "nbformat_minor": 5
}
