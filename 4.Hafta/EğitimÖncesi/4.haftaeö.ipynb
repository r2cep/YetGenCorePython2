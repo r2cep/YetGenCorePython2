{
 "cells": [
  {
   "attachments": {},
   "cell_type": "markdown",
   "metadata": {},
   "source": [
    "# 4.Hafta Eğitim Öncesi Notları"
   ]
  },
  {
   "attachments": {},
   "cell_type": "markdown",
   "metadata": {},
   "source": [
    " ## Listeler\n",
    "\n",
    "#### - [ ] içerisinde tutulurlar\n",
    "#### - Indekleme, veri güncelleme, silme, veri ekleme gibi işlemler yapılabilir.\n",
    "#### - İç içe listelemeler yapılır."
   ]
  },
  {
   "cell_type": "code",
   "execution_count": 1,
   "metadata": {},
   "outputs": [
    {
     "name": "stdout",
     "output_type": "stream",
     "text": [
      "['elma', 'armut', 'muz']\n"
     ]
    }
   ],
   "source": [
    "meyveler = [\"elma\", \"armut\", \"muz\"]\n",
    "print(meyveler)"
   ]
  },
  {
   "cell_type": "code",
   "execution_count": null,
   "metadata": {},
   "outputs": [],
   "source": []
  },
  {
   "cell_type": "code",
   "execution_count": 2,
   "metadata": {},
   "outputs": [
    {
     "name": "stdout",
     "output_type": "stream",
     "text": [
      "elma\n"
     ]
    }
   ],
   "source": [
    "print(meyveler[0])"
   ]
  },
  {
   "cell_type": "code",
   "execution_count": 3,
   "metadata": {},
   "outputs": [
    {
     "name": "stdout",
     "output_type": "stream",
     "text": [
      "muz\n"
     ]
    }
   ],
   "source": [
    "print(meyveler[-1])"
   ]
  },
  {
   "cell_type": "code",
   "execution_count": 5,
   "metadata": {},
   "outputs": [],
   "source": [
    "meyveler.append(\"Karpuz\") ## append() : Listenin sonuna eleman ekler."
   ]
  },
  {
   "cell_type": "code",
   "execution_count": 6,
   "metadata": {},
   "outputs": [
    {
     "name": "stdout",
     "output_type": "stream",
     "text": [
      "['elma', 'armut', 'muz', 'Karpuz']\n"
     ]
    }
   ],
   "source": [
    "print(meyveler)"
   ]
  },
  {
   "cell_type": "code",
   "execution_count": 7,
   "metadata": {},
   "outputs": [],
   "source": [
    "meyveler.remove(\"muz\") ## remove() : Listeden elemanı siler.\n"
   ]
  },
  {
   "cell_type": "code",
   "execution_count": 8,
   "metadata": {},
   "outputs": [
    {
     "name": "stdout",
     "output_type": "stream",
     "text": [
      "['elma', 'armut', 'Karpuz']\n"
     ]
    }
   ],
   "source": [
    "print(meyveler)"
   ]
  },
  {
   "cell_type": "code",
   "execution_count": 9,
   "metadata": {},
   "outputs": [
    {
     "name": "stdout",
     "output_type": "stream",
     "text": [
      "3\n"
     ]
    }
   ],
   "source": [
    "\n",
    "print(len(meyveler)) ## len() : Listenin içerisindeki  elemanları siler."
   ]
  },
  {
   "cell_type": "code",
   "execution_count": 10,
   "metadata": {},
   "outputs": [
    {
     "name": "stdout",
     "output_type": "stream",
     "text": [
      "['elma', 'armut', 'Karpuz']\n",
      "['Kavun', 'armut', 'Karpuz']\n"
     ]
    }
   ],
   "source": [
    "print(meyveler)\n",
    "meyveler[0] = \"Kavun\" ## Listedeki [] içine girilen elemanı = in karşısındaki ile değiştirir.\n",
    "print(meyveler)"
   ]
  },
  {
   "cell_type": "code",
   "execution_count": 12,
   "metadata": {},
   "outputs": [
    {
     "name": "stdout",
     "output_type": "stream",
     "text": [
      "['Ankara', 'İstanbul', 'İzmir']\n"
     ]
    }
   ],
   "source": [
    "sehirler = list((\"Ankara\", \"İstanbul\", \"İzmir\"))\n",
    "print(sehirler)"
   ]
  },
  {
   "cell_type": "code",
   "execution_count": 14,
   "metadata": {},
   "outputs": [
    {
     "data": {
      "text/plain": [
       "0"
      ]
     },
     "execution_count": 14,
     "metadata": {},
     "output_type": "execute_result"
    }
   ],
   "source": [
    "sehirler.index(\"Ankara\") ## index() : Listedeki elemanın indexini(yerini) verir."
   ]
  },
  {
   "cell_type": "code",
   "execution_count": 23,
   "metadata": {},
   "outputs": [
    {
     "name": "stdout",
     "output_type": "stream",
     "text": [
      "['Ankara', 'İstanbul', 'İzmir']\n",
      "['İstanbul']\n"
     ]
    }
   ],
   "source": [
    "sehirler = list((\"Ankara\", \"İstanbul\", \"İzmir\"))\n",
    "print(sehirler)\n",
    "sehirler.pop()\n",
    "sehirler.pop(0) ##  pop() : Girilen indexi listeden siler.\n",
    "print(sehirler)"
   ]
  },
  {
   "cell_type": "code",
   "execution_count": 24,
   "metadata": {},
   "outputs": [
    {
     "name": "stdout",
     "output_type": "stream",
     "text": [
      "['Adana', 'Denizli', 'İstanbul']\n"
     ]
    }
   ],
   "source": [
    "sehirler.insert(0,\"Adana\") ##  insert() : İstenilen indexe elemanı ekler.\n",
    "sehirler.insert(1, \"Denizli\")\n",
    "print(sehirler)"
   ]
  },
  {
   "cell_type": "code",
   "execution_count": 25,
   "metadata": {},
   "outputs": [
    {
     "name": "stdout",
     "output_type": "stream",
     "text": [
      "['İstanbul', 'Denizli', 'Adana']\n"
     ]
    }
   ],
   "source": [
    "sehirler.reverse() ## reverse() : Listeyi ters çevirir\n",
    "print(sehirler)"
   ]
  },
  {
   "cell_type": "code",
   "execution_count": 26,
   "metadata": {},
   "outputs": [
    {
     "name": "stdout",
     "output_type": "stream",
     "text": [
      "['Adana', 'Denizli', 'İstanbul']\n"
     ]
    }
   ],
   "source": [
    "sehirler.sort() ## Listeyi küçükten büyüğe sıralar.\n",
    "print(sehirler)"
   ]
  },
  {
   "cell_type": "code",
   "execution_count": 29,
   "metadata": {},
   "outputs": [
    {
     "name": "stdout",
     "output_type": "stream",
     "text": [
      "['elma', 'karpuz', 'muz', 'kavun']\n"
     ]
    }
   ],
   "source": [
    "liste1 = [\"elma\", \"karpuz\"]\n",
    "liste2 = [\"muz\", \"kavun\"]\n",
    "print(liste1+liste2)"
   ]
  },
  {
   "cell_type": "code",
   "execution_count": 33,
   "metadata": {},
   "outputs": [
    {
     "name": "stdout",
     "output_type": "stream",
     "text": [
      "1\n",
      "2\n",
      "3\n",
      "recep\n",
      "4\n",
      "yiğit\n"
     ]
    }
   ],
   "source": [
    "nestedList = [1,2,3,\"recep\",4,[6,\"yiğit\"]]\n",
    "print(nestedList[0])\n",
    "print(nestedList[1])\n",
    "print(nestedList[2])\n",
    "print(nestedList[3])\n",
    "print(nestedList[4])\n",
    "print(nestedList[5][1])\n",
    "\n"
   ]
  },
  {
   "attachments": {},
   "cell_type": "markdown",
   "metadata": {},
   "source": [
    "# TUPLE (DEMET)\n",
    "\n",
    "#### - Tuple listeleri benzerdir.\n",
    "#### - Tuple ile liste arasındaki en önemli fark tuple elemanlarının değiştirelemez, liste elemanları değiştirilebilir.\n",
    "#### - Performanslı bir data sağlar. \n",
    "#### - () içerisinde tanımlanabilir.\n",
    "#### - İç içe tuple oluşturulabilir.\n",
    "#### - Liste içinde tuple - tuple içinde liste oluşturulabilir.\n",
    "#### - bir kere yazılınca değiştirilemezler yalnızca okunurlar.\n",
    "#### - tek elemansa tuple olduğunu belirtmek icin virgül konmalıdır."
   ]
  },
  {
   "cell_type": "code",
   "execution_count": 2,
   "metadata": {},
   "outputs": [
    {
     "name": "stdout",
     "output_type": "stream",
     "text": [
      "<class 'tuple'>\n"
     ]
    }
   ],
   "source": [
    "tupleList = (2,3,4,5,\"Ankara\",[2,4,6])\n",
    "print(type(tupleList))"
   ]
  },
  {
   "cell_type": "code",
   "execution_count": 3,
   "metadata": {},
   "outputs": [
    {
     "name": "stdout",
     "output_type": "stream",
     "text": [
      "6\n"
     ]
    }
   ],
   "source": [
    "print(len(tupleList))"
   ]
  },
  {
   "attachments": {},
   "cell_type": "markdown",
   "metadata": {},
   "source": [
    "## SET\n",
    "#### Listelere benzer\n",
    "#### Indexsiz ve sırasız oluşur.\n",
    "#### Veri tekrarı yoktur\n",
    "#### Çok hızlıdır, {} içinde tanımlıdır.\n"
   ]
  },
  {
   "cell_type": "code",
   "execution_count": 5,
   "metadata": {},
   "outputs": [
    {
     "name": "stdout",
     "output_type": "stream",
     "text": [
      "<class 'set'>\n"
     ]
    }
   ],
   "source": [
    "sebzeler = {\"domates\",\"salatalık\"}\n",
    "print(type(sebzeler))"
   ]
  },
  {
   "attachments": {},
   "cell_type": "markdown",
   "metadata": {},
   "source": [
    "##### add() : sete eleman ekler\n",
    "##### remove() : setten eleman siler \n",
    "##### clear() : settin içerisindeki hepsini siler\n",
    "##### pop() : settin son elemanını siler.\n",
    "##### union() : iki seti birleştirir.\n",
    "##### intersection() : iki setin kesişimi alır.\n",
    "##### difference() : iki setin farkını alır."
   ]
  },
  {
   "cell_type": "code",
   "execution_count": 6,
   "metadata": {},
   "outputs": [
    {
     "name": "stdout",
     "output_type": "stream",
     "text": [
      "{'soğan', 'domates', 'salatalık'}\n"
     ]
    }
   ],
   "source": [
    "sebzeler.add(\"soğan\")\n",
    "print(sebzeler)"
   ]
  },
  {
   "cell_type": "code",
   "execution_count": 7,
   "metadata": {},
   "outputs": [
    {
     "name": "stdout",
     "output_type": "stream",
     "text": [
      "{'domates', 'salatalık'}\n"
     ]
    }
   ],
   "source": [
    "sebzeler.remove(\"soğan\")\n",
    "print(sebzeler)"
   ]
  },
  {
   "cell_type": "code",
   "execution_count": 8,
   "metadata": {},
   "outputs": [
    {
     "name": "stdout",
     "output_type": "stream",
     "text": [
      "{'salatalık'}\n"
     ]
    }
   ],
   "source": [
    "sebzeler.pop()\n",
    "print(sebzeler)"
   ]
  },
  {
   "cell_type": "code",
   "execution_count": 9,
   "metadata": {},
   "outputs": [
    {
     "data": {
      "text/plain": [
       "{1, 2, 3, 4, 5, 6, 7, 8, 9}"
      ]
     },
     "execution_count": 9,
     "metadata": {},
     "output_type": "execute_result"
    }
   ],
   "source": [
    "liste1 = {1,2,3,4,5}\n",
    "list2 = {6,7,8,9}\n",
    "liste1.union(list2)"
   ]
  },
  {
   "cell_type": "code",
   "execution_count": 10,
   "metadata": {},
   "outputs": [
    {
     "data": {
      "text/plain": [
       "{6, 7, 8, 9}"
      ]
     },
     "execution_count": 10,
     "metadata": {},
     "output_type": "execute_result"
    }
   ],
   "source": [
    "list2.difference(liste1)"
   ]
  },
  {
   "attachments": {},
   "cell_type": "markdown",
   "metadata": {},
   "source": [
    "## Dictionary (Sözlük)\n",
    "##### sırasız veri tutar.\n",
    "##### {} ile tanımlanır.\n",
    "##### value = değer\n"
   ]
  },
  {
   "cell_type": "code",
   "execution_count": 12,
   "metadata": {},
   "outputs": [
    {
     "name": "stdout",
     "output_type": "stream",
     "text": [
      "kitap\n"
     ]
    }
   ],
   "source": [
    "sözlük = {\"book\" : \"kitap\", \"table\" : \"masa\"}\n",
    "print(sözlük[\"book\"])"
   ]
  },
  {
   "cell_type": "code",
   "execution_count": 17,
   "metadata": {},
   "outputs": [
    {
     "name": "stdout",
     "output_type": "stream",
     "text": [
      "kalem\n"
     ]
    }
   ],
   "source": [
    "sözlük[\"pencil\"] = \"kalem\"\n",
    "print(sözlük[\"pencil\"])"
   ]
  },
  {
   "cell_type": "code",
   "execution_count": 22,
   "metadata": {},
   "outputs": [
    {
     "name": "stdout",
     "output_type": "stream",
     "text": [
      "{'table': 'masa', 'pencil': 'kalem'}\n"
     ]
    }
   ],
   "source": [
    "print(sözlük)"
   ]
  },
  {
   "attachments": {},
   "cell_type": "markdown",
   "metadata": {},
   "source": [
    "### \n",
    "    upper() : Stringin hepsini büyük harfe çevirir.:\n",
    "    lower() : Stringin hepsini küçük harfe çevirir.\n",
    "    capitalize() : Stringin ilk harfini büyük harfe çevirir.\n",
    "    replace() : Stringin içerisindeki veriyi değiştirir.\n",
    "    starwith() : Stringin belirtilen karaterle başlayıp başmadığına bakar.\n",
    "    endswith() : Stringin belirtilen karakterlerle bitip bitmediğini kontrol eder"
   ]
  },
  {
   "cell_type": "markdown",
   "metadata": {},
   "source": []
  },
  {
   "cell_type": "markdown",
   "metadata": {},
   "source": []
  },
  {
   "cell_type": "code",
   "execution_count": null,
   "metadata": {},
   "outputs": [],
   "source": []
  },
  {
   "cell_type": "code",
   "execution_count": null,
   "metadata": {},
   "outputs": [],
   "source": []
  },
  {
   "cell_type": "code",
   "execution_count": null,
   "metadata": {},
   "outputs": [],
   "source": []
  },
  {
   "cell_type": "code",
   "execution_count": null,
   "metadata": {},
   "outputs": [],
   "source": []
  },
  {
   "cell_type": "code",
   "execution_count": null,
   "metadata": {},
   "outputs": [],
   "source": []
  },
  {
   "cell_type": "code",
   "execution_count": null,
   "metadata": {},
   "outputs": [],
   "source": []
  },
  {
   "cell_type": "code",
   "execution_count": null,
   "metadata": {},
   "outputs": [],
   "source": []
  },
  {
   "cell_type": "code",
   "execution_count": null,
   "metadata": {},
   "outputs": [],
   "source": []
  },
  {
   "cell_type": "code",
   "execution_count": null,
   "metadata": {},
   "outputs": [],
   "source": []
  }
 ],
 "metadata": {
  "kernelspec": {
   "display_name": "Python 3",
   "language": "python",
   "name": "python3"
  },
  "language_info": {
   "codemirror_mode": {
    "name": "ipython",
    "version": 3
   },
   "file_extension": ".py",
   "mimetype": "text/x-python",
   "name": "python",
   "nbconvert_exporter": "python",
   "pygments_lexer": "ipython3",
   "version": "3.11.1"
  },
  "orig_nbformat": 4
 },
 "nbformat": 4,
 "nbformat_minor": 2
}
