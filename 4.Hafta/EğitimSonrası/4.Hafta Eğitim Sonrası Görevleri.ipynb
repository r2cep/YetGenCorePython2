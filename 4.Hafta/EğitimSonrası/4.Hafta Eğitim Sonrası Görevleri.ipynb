{
 "cells": [
  {
   "cell_type": "markdown",
   "metadata": {},
   "source": [
    "# Problem 1\n",
    "`ogrenciler` adında bir sözlük oluşturunuz. Kullanıcıdan döngü yardımıyla 3 öğrenci için veri girmesini isteyerek öğrencilerin sırasıyla okul numarası, isim, soy isim, telefon numarası ve doğum tarihi bilgilerini alınız. Aldığınız öğrenci bilgilerini yine aynı döngü yardımıyla `ogrenciler` adındaki sözlükte saklayınız. Daha sonra öğrenci bilgilerinin bulunduğu sözlük yapısını ekrana bastırınız.\n",
    "\n"
   ]
  },
  {
   "cell_type": "code",
   "execution_count": 21,
   "metadata": {},
   "outputs": [
    {
     "name": "stdout",
     "output_type": "stream",
     "text": [
      "{'Recep Şanlı': '991 / 0555 555 55 55 / 19.08.2004', 'Meryem Manafli': '992 / 0555 555 55 55 / 01.07.2004', 'Halil Durmaz': '993 / 0555 555 55 55 / 19.06.1989'}\n"
     ]
    }
   ],
   "source": [
    "ogrenci = {}\n",
    "for i in range(1,4):\n",
    " okulNumarası = int(input(\" Okul numaranızı giriniz : \"))\n",
    " isimSoyisim = input(\"İsim ve Soyisminizi giriniz : \")\n",
    " telefonNumarası = (input(\"Telefon numaranızı giriniz : \"))\n",
    " dogumTarihi = input(\"Doğum tarihinizi giriniz (Gün.Ay.Yıl) : \")\n",
    " ogrenci[isimSoyisim] = str(okulNumarası) + \" / \" + str(telefonNumarası) + \" / \" + str(dogumTarihi)\n",
    "print(ogrenci)"
   ]
  },
  {
   "cell_type": "markdown",
   "metadata": {},
   "source": [
    "# Problem 2\n",
    "\n",
    "### a - Biraz ısınarak başlayalım!\n",
    "\n",
    "```\n",
    "numbers = [5,10,10,15,15,15,20,20,20,20]\n",
    "```\n",
    "\n",
    "Yukarıda `numbers` adında 10 elemanlı bir liste verilmiştir. Bu listenin her elemanını kontrol eden ve tekrar eden elemanları bir kez olacak şekilde başka bir listeye kopyalayan bir program yazınız. Son olarak oluşturduğunuz listeyi ekrana bastırınız.\n",
    "\n",
    "\n",
    "\n",
    "\n",
    "```\n",
    ">Output\n",
    "[5, 10, 15, 20]\n",
    "```\n"
   ]
  },
  {
   "cell_type": "code",
   "execution_count": 19,
   "metadata": {},
   "outputs": [
    {
     "name": "stdout",
     "output_type": "stream",
     "text": [
      "[5, 10, 15, 20]\n"
     ]
    }
   ],
   "source": [
    "numbers = [5,10,10,15,15,15,20,20,20,20]\n",
    "numbers2 = []\n",
    "for i in numbers:\n",
    "    if i not in numbers2:\n",
    "        numbers2.append(i)\n",
    "print(numbers2)    \n"
   ]
  },
  {
   "attachments": {},
   "cell_type": "markdown",
   "metadata": {},
   "source": [
    "### 🌶️ b) Hadi işi biraz daha zorlaştıralım! \n",
    "\n",
    "\n",
    "Şimdiyse senden `numbers` isimli listedeki tekrar eden elemanları `repeatNumbers` adındaki listeye; tekrar etmeyen elemanları `uniqueNumbers`adındaki listeye kopyalayan yazmanı ve listeleri ekrana bastırmanı bekliyoruz\n",
    "\n",
    "```\n",
    ">Output\n",
    "Tekrar Eden Elemanlar: [10, 10, 15, 15, 15, 20, 20, 20, 20]\n",
    "Tekrar Etmeyen Elemanlar: [5]\n",
    "```"
   ]
  },
  {
   "cell_type": "code",
   "execution_count": 14,
   "metadata": {},
   "outputs": [
    {
     "name": "stdout",
     "output_type": "stream",
     "text": [
      "Tekrar eden sayılar:  [10, 10, 15, 15, 15, 20, 20, 20, 20]\n",
      "Tekrar etmeyen sayılar:  [5]\n"
     ]
    }
   ],
   "source": [
    "numbers = [5,10,10,15,15,15,20,20,20,20]\n",
    "repeatNumbers = []\n",
    "uniqueNumbers = []\n",
    "\n",
    "for number in numbers:\n",
    "    if numbers.count(number) > 1:\n",
    "        repeatNumbers.append(number)\n",
    "    elif numbers.count(number) == 1:\n",
    "        uniqueNumbers.append(number)\n",
    "\n",
    "print(\"Tekrar eden elemanlar: \", repeatNumbers)\n",
    "print(\"Tekrar etmeyen elemanlar: \", uniqueNumbers)\n",
    "\n",
    "    "
   ]
  },
  {
   "cell_type": "markdown",
   "metadata": {},
   "source": [
    "# Problem 3\n",
    "sn1 = {1,2,3,4,5}\n",
    "\n",
    "sn2 = {4,5,6,7,8}\n",
    "\n",
    " Verilen 2 adet küme için kesişimlerini, farklarını ve birleşimlerini bulunuz. "
   ]
  },
  {
   "cell_type": "code",
   "execution_count": 19,
   "metadata": {},
   "outputs": [
    {
     "name": "stdout",
     "output_type": "stream",
     "text": [
      "{4, 5}\n",
      "{1, 2, 3}\n",
      "{1, 2, 3, 4, 5, 6, 7, 8}\n"
     ]
    }
   ],
   "source": [
    "sn1 = {1,2,3,4,5}\n",
    "sn2 = {4,5,6,7,8}\n",
    "\n",
    "print(sn1.intersection(sn2))\n",
    "print(sn1.difference(sn2))\n",
    "print(sn1.union(sn2))\n",
    "\n"
   ]
  },
  {
   "cell_type": "markdown",
   "metadata": {},
   "source": [
    "# Problem 4\n",
    "\n",
    "Buradaki işlemlerimizin tamamı stringler içindir. Aşağıda verilecek olan metodlar için kendinizin örnek yaratması gerekmektedir. \n",
    "\n",
    "Örneğin `upper` için `string` değişkeni oluştururken` k = \"BAC\"` şeklinde oluşturmayınız. Bunun yerine k değişkenini `k = \"bac`\" şeklinde oluşturmanız `upper` metodundaki değişimi görebilmeniz için daha iyi olacaktır.\n",
    "\n",
    "Bütün metodlardaki değişimin gözle görülür şekilde değişimi beklenmektedir.\n",
    "\n",
    "\n",
    "1- capitalize(), lower(), upper(), swapcase(), title(), replace()\n",
    "\n",
    "2- endswith(), startswith(), find(), index(), count()\n",
    "\n",
    "3- split(), strip(), join(), islower(), isalpha(), isdigit()\n",
    "\n",
    "\n",
    "Yukarıdaki `string` metodlarındaki değişimleri görebildiğimiz bir program yazınız.\n"
   ]
  },
  {
   "cell_type": "code",
   "execution_count": 26,
   "metadata": {},
   "outputs": [
    {
     "name": "stdout",
     "output_type": "stream",
     "text": [
      "Yetgen\n",
      "yetgen\n",
      "YETGEN\n",
      "YETGEN\n",
      "yetgen\n",
      "\n",
      "False\n",
      "False\n",
      "5\n",
      "0\n",
      "0\n",
      "\n",
      "['yetgen']\n",
      "yetgen\n",
      "Mahmut.Recep.Leyla\n",
      "True\n",
      "False\n",
      "False\n"
     ]
    }
   ],
   "source": [
    "liste = \"yetgen\"\n",
    "\n",
    "print(liste.capitalize())\n",
    "print(liste.lower())\n",
    "print(liste.upper())\n",
    "print(liste.swapcase())\n",
    "liste.title()\n",
    "print(liste.replace(\"N\",\"n\"))\n",
    "\n",
    "print(\"\"\n",
    "      \"\")\n",
    "\n",
    "print(liste.endswith(\"N\"))\n",
    "print(liste.startswith(\"M\"))\n",
    "print(liste.find(\"n\"))\n",
    "print(liste.index(\"y\"))\n",
    "print(liste.count(\"banana\"))\n",
    "\n",
    "print(\"\"\n",
    "      \"\")\n",
    "\n",
    "x = liste.split()\n",
    "print(x)\n",
    "liste = \"    yetgen     \"\n",
    "a = liste.strip()\n",
    "print(a)\n",
    "\n",
    "\n",
    "isim = {\"Recep\",\"Mahmut\",\"Leyla\"}\n",
    "x = \".\".join(isim)\n",
    "print(x)\n",
    "\n",
    "print(liste.islower())\n",
    "print(liste.isalpha())\n",
    "print(liste.isdigit())"
   ]
  }
 ],
 "metadata": {
  "kernelspec": {
   "display_name": "Python 3.10.5 64-bit",
   "language": "python",
   "name": "python3"
  },
  "language_info": {
   "codemirror_mode": {
    "name": "ipython",
    "version": 3
   },
   "file_extension": ".py",
   "mimetype": "text/x-python",
   "name": "python",
   "nbconvert_exporter": "python",
   "pygments_lexer": "ipython3",
   "version": "3.11.1"
  },
  "orig_nbformat": 4,
  "vscode": {
   "interpreter": {
    "hash": "5026d2d6e7aaaaba093def813beadff083d8733e4a511af01735cbabd156995d"
   }
  }
 },
 "nbformat": 4,
 "nbformat_minor": 2
}
