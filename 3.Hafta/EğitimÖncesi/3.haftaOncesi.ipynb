{
 "cells": [
  {
   "attachments": {},
   "cell_type": "markdown",
   "metadata": {},
   "source": [
    "if kosul:\n",
    "    # kosul dogruysa calıscak kodlar\n",
    "elif kosul2:\n",
    "    # kosul2 dogruysa calısacak kodlar\n",
    "else:\n",
    "    # kosul ve kosul2 calısmazsa calısacak kodlar"
   ]
  },
  {
   "cell_type": "code",
   "execution_count": 3,
   "metadata": {},
   "outputs": [
    {
     "name": "stdout",
     "output_type": "stream",
     "text": [
      "If calıstı.\n",
      "Print sonlandı.\n"
     ]
    }
   ],
   "source": [
    "if 3 > 1:\n",
    "    print(\"If calıstı.\")\n",
    "print(\"Print sonlandı.\")"
   ]
  },
  {
   "cell_type": "code",
   "execution_count": 8,
   "metadata": {},
   "outputs": [
    {
     "name": "stdout",
     "output_type": "stream",
     "text": [
      "1.sayı, 2.sayıdan küçüktür.\n"
     ]
    }
   ],
   "source": [
    "sayi1 = float(input(\"1.sayıyı giriniz.\"))\n",
    "sayi2 = float(input(\"2.sayıyı giriniz.\"))\n",
    "if sayi1 > sayi2:\n",
    "    print(\"1.sayı, 2.sayıdan büyüktür.\")\n",
    "elif sayi1 == sayi2:\n",
    "    print(\"1.sayı, 2.sayıya eşittir.\")\n",
    "else:\n",
    "    print(\"1.sayı, 2.sayıdan küçüktür.\")"
   ]
  },
  {
   "cell_type": "code",
   "execution_count": 17,
   "metadata": {},
   "outputs": [
    {
     "name": "stdout",
     "output_type": "stream",
     "text": [
      " Joker' i seçtiniz. \n"
     ]
    }
   ],
   "source": [
    "superKahraman = input(\" Süper kahraman giriniz : \")\n",
    "if superKahraman == \"Batman\":\n",
    "    print(\" Batman' ı seçtiniz. \")\n",
    "elif superKahraman == \"Joker\":\n",
    "    print(\" Joker' i seçtiniz. \")\n",
    "elif superKahraman == \"Ironman\":\n",
    "    print(\" Ironman' i seçtiniz. \")\n",
    "else:\n",
    "    print(\" Elimizde böyle bir süper kahraman yok. \")"
   ]
  },
  {
   "cell_type": "code",
   "execution_count": 18,
   "metadata": {},
   "outputs": [
    {
     "name": "stdout",
     "output_type": "stream",
     "text": [
      " 10 sayısı 20 sayısından küçüktür ve 20 sayısı 30 sayısından küçüktür. \n"
     ]
    }
   ],
   "source": [
    "a = 10\n",
    "b = 20\n",
    "c = 30\n",
    "\n",
    "if a > b and b > c:\n",
    "    print(f\" {a} sayısı {b} sayısından büyüktür ve {b} sayısı {c} sayısından büyüktür. \")\n",
    "elif a < b and b < c:\n",
    "    print(f\" {a} sayısı {b} sayısından küçüktür ve {b} sayısı {c} sayısından küçüktür. \")\n"
   ]
  },
  {
   "attachments": {},
   "cell_type": "markdown",
   "metadata": {},
   "source": [
    "# in operatörü\n",
    "### true ya da false olduğunu gösteriyor."
   ]
  },
  {
   "cell_type": "code",
   "execution_count": 20,
   "metadata": {},
   "outputs": [
    {
     "data": {
      "text/plain": [
       "True"
      ]
     },
     "execution_count": 20,
     "metadata": {},
     "output_type": "execute_result"
    }
   ],
   "source": [
    "string = \"Recep Şanlı\"\n",
    "\"e\" in string"
   ]
  },
  {
   "attachments": {},
   "cell_type": "markdown",
   "metadata": {},
   "source": [
    "# döngüler \n",
    "\n",
    "### for döngüsü"
   ]
  },
  {
   "cell_type": "code",
   "execution_count": 23,
   "metadata": {},
   "outputs": [
    {
     "name": "stdout",
     "output_type": "stream",
     "text": [
      " \n",
      "R\n",
      "e\n",
      "c\n",
      "e\n",
      "p\n",
      " \n",
      "Ş\n",
      "a\n",
      "n\n",
      "l\n",
      "ı\n"
     ]
    }
   ],
   "source": [
    "string = \" Recep Şanlı\"\n",
    "for string1 in string:\n",
    "    print(string1)"
   ]
  },
  {
   "cell_type": "code",
   "execution_count": 28,
   "metadata": {},
   "outputs": [
    {
     "name": "stdout",
     "output_type": "stream",
     "text": [
      "0\n",
      "1\n",
      "2\n",
      "3\n",
      "4\n",
      "5\n"
     ]
    }
   ],
   "source": [
    "liste = [0,1,2,3,4,5]\n",
    "for liste1 in liste:\n",
    "    print(liste1)"
   ]
  },
  {
   "attachments": {},
   "cell_type": "markdown",
   "metadata": {},
   "source": [
    "# while döngüsü"
   ]
  },
  {
   "cell_type": "code",
   "execution_count": 29,
   "metadata": {},
   "outputs": [
    {
     "name": "stdout",
     "output_type": "stream",
     "text": [
      "Toplam :  55\n"
     ]
    }
   ],
   "source": [
    "sum = 0\n",
    "i = 1\n",
    "while i < 11:\n",
    "    sum += i\n",
    "    i += 1\n",
    "print(\"Toplam : \" , sum)"
   ]
  },
  {
   "cell_type": "code",
   "execution_count": null,
   "metadata": {},
   "outputs": [],
   "source": []
  }
 ],
 "metadata": {
  "kernelspec": {
   "display_name": "Python 3",
   "language": "python",
   "name": "python3"
  },
  "language_info": {
   "codemirror_mode": {
    "name": "ipython",
    "version": 3
   },
   "file_extension": ".py",
   "mimetype": "text/x-python",
   "name": "python",
   "nbconvert_exporter": "python",
   "pygments_lexer": "ipython3",
   "version": "3.11.1"
  },
  "orig_nbformat": 4
 },
 "nbformat": 4,
 "nbformat_minor": 2
}
